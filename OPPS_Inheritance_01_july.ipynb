{
 "cells": [
  {
   "cell_type": "code",
   "execution_count": 1,
   "metadata": {},
   "outputs": [],
   "source": [
    "#What is the primary goal of Object-Oriented Programming (OOP)?\n",
    "\n",
    "\n",
    "# = Object-Oriented Programming (OOP) is a programming paradigm based on the concept of \"objects\", which can contain data and code that manipulates the data. \n",
    "# The primary goal of OOP is to encapsulate code and data into objects to make it easier to manage and reuse.\n",
    "# The three goals of Object Oriented Programming are Robustness, Adaptability, and Reusability.\n",
    "# Object-oriented programming aims to implement real-world entities like inheritance, hiding, polymorphism, etc in programming.\n",
    "# To make the development and maintenance of projects more effortless. \n",
    "# To provide the feature of data hiding that is good for security concerns.  \n",
    "# We can solve real-world problems if we are using object-oriented programming. \n",
    "# "
   ]
  },
  {
   "cell_type": "code",
   "execution_count": 3,
   "metadata": {},
   "outputs": [],
   "source": [
    " # 2. What is an object in Python?\n",
    "\n",
    "# = Objects are variables that contain data and functions that can be used to manipulate the data.\n",
    "# The object's data can vary in type (string, integer, etc.) depending on how it's been defined.\n",
    "# Objects are the instances of a particular class. Every other element in Python will be an object of some class, such as the string, dictionary, number(10,40), etc.\n",
    "# It will be an object of some corresponding built-in class(int, str) in Python.\n",
    "# Objects are different copies of the class with some actual values.\n",
    "# Objects are an encapsulation of variables and functions into a single entity. \n",
    "# Objects get their variables and functions from classes. "
   ]
  },
  {
   "cell_type": "code",
   "execution_count": 4,
   "metadata": {},
   "outputs": [],
   "source": [
    "# 3. What is a class in Python?\n",
    "#  A class is a code template for creating objects. Objects have member variables and have behaviour associated with them. \n",
    "#  In python a class is created by the keyword class.\n",
    "#  To define a class in Python, use the class keyword followed by the class name and a colon (:). Inside the class block, define attributes and methods. \n",
    "#  for eg;class MyClass: def __init__(self, arg1, arg2): self.arg1 = arg1.\n",
    "#   A class is a blueprint that defines the variables and the methods common to all objects of a certain kind.\n",
    "#   The class represents a group of objects having similar properties and behavior. \n",
    "#   For example, the animal type Dog is a class while a particular dog named Tommy is an object of the Dog class.\n"
   ]
  },
  {
   "cell_type": "code",
   "execution_count": 5,
   "metadata": {},
   "outputs": [],
   "source": [
    "# 4. What are attributes and methods in a class?\n",
    "\n",
    "# = Attributes are characteristics of an object, while methods are functions that act on an object.\n",
    "#  class attributes are class variables that are inherited by every object of a class. \n",
    "#  The value of class attributes remain the same for every new object.\n",
    "#  In object-oriented programming (OOP), attributes are variables belonging to an object or class and containing information about their properties or characteristics.\n",
    "#  At the same time, methods are functions that belong to an object or class and are designed to perform actions involving the object's attributes.\n",
    "#  there are three types of methods: instance methods, class methods and static methods. \n",
    "#  Instance methods are the most common type of method. They take at least the parameter self as an input. \n",
    "#  This parameter points towards an instance of the class when the method is called.\n",
    "#  in Python, methods are functions that are associated with an object and can manipulate its data or perform actions on it. \n",
    "#  They are called using dot notation, with the object name followed by a period and the method name.\n",
    "#  Class methods are associated with the class rather than an instance and can access and modify class-level data.\n",
    "#  Reusability: Methods allow you to write code once and use it many times, making your code more modular and easier to maintain. Abstraction: Methods allow you to abstract away complex logic and provide a simple interface for others to use. \n",
    "#  This makes your code more readable and easier to understand.\n"
   ]
  },
  {
   "cell_type": "code",
   "execution_count": null,
   "metadata": {},
   "outputs": [],
   "source": [
    "# 5. What is the difference between class variables and instance variables in Python?\n",
    "# = In object-oriented programming, variables at the class level are referred to as class variables, whereas variables at the object level are called instance variables.\n",
    "#  Instance Variable: It is basically a class variable without a static modifier and is usually shared by all class instances.\n",
    "#  Across different objects, these variables can have different values. They are tied to a particular object instance of the class\n",
    "#  the contents of an instance variable are totally independent of one object instance to others.\n",
    "#  Class Variable: It is basically a static variable that can be declared anywhere at class level with static. \n",
    "#  Across different objects, these variables can have only one value. \n",
    "#  Instance variable: These variables cannot be shared between classes. Instead, they only belong to one specific class.  \tThese variables can be shared between class and its subclasses. \n",
    "#  It usually reserves memory for data that the class needs.\n",
    "#  These variables are declared without using the static keyword.  \n",
    "#  Class Variable: It usually maintains a single shared value for all instances of class even if no instance object of the class exists.\n",
    "#  It can be accessed by calling with the class name. \n",
    "#  These variables are declared using the keyword static. \n"
   ]
  },
  {
   "cell_type": "code",
   "execution_count": 6,
   "metadata": {},
   "outputs": [],
   "source": [
    "# What is the purpose of the self parameter in Python class methods?\n",
    "# = The use of self in Python is important for several reasons: Accessing instance variables and methods.\n",
    "#  Without self it would be impossible to differentiate between instance variables and class variables or methods.\n",
    "# This handy keyword allows you to access variables, attributes, and methods of a defined class in Python.\n",
    "# Through self, an instance method can call other methods within the same class. For example, self.method_name() calls another method in the same class.\n",
    "# This facilitates interaction between different methods of the same class, enabling them to work together on the instance's data.\n",
    "# Using self consistently across methods ensures that they operate on the correct instance of the class. \n",
    "# This consistency is crucial for object-oriented programming for encapsulation.\n",
    "#Without self, it would be difficult to know whether a variable is an instance attribute or just a local variable.\n"
   ]
  },
  {
   "cell_type": "code",
   "execution_count": 20,
   "metadata": {},
   "outputs": [],
   "source": [
    "# 7.For a ticket booking system, you have to design the \"Ticket\" class with OOP\n",
    "#principles in mind. The “Ticket” class should have the following attributes:\n",
    "#a. ticket_id: Represents the unique identifier for the ticket.\n",
    "#b. event_name: Represents the name of the event.\n",
    "#c. event_date: Represents the date of the event.\n",
    "#d. venue: Represents the venue of the event.\n",
    "#e. seat_number: Represents the seat number associated with the ticket.\n",
    "#f. price: Represents the price of the ticket.\n",
    "#g. is_reserved: Represents the reservation status of the ticket.\n",
    "#The class also includes the following methods:\n",
    "#a. reserve_ticket(self): Marks the ticket as reserved if it is not already reserved.\n",
    "#b. cancel_reservation(self): Cancels the reservation of the ticket if it is already\n",
    "#reserved.\n",
    "#c. display_ticket_info(self): Displays the information about the ticket, including its\n",
    "#attributes and reservation status."
   ]
  },
  {
   "cell_type": "code",
   "execution_count": 21,
   "metadata": {},
   "outputs": [],
   "source": [
    "# 7.= \n",
    "class Book:\n",
    "    def __init__(self, title, author, isbn, publication_year, available_copies):\n",
    "        self.title = title\n",
    "        self.author = author\n",
    "        self.isbn = isbn\n",
    "        self.publication_year = publication_year\n",
    "        self.available_copies = available_copies\n",
    "\n",
    "    def check_out(self):\n",
    "        if self.available_copies > 0:\n",
    "            self.available_copies -= 1\n",
    "            return True\n",
    "        else:\n",
    "            return False\n",
    "\n",
    "    def return_book(self):\n",
    "        self.available_copies += 1\n",
    "\n",
    "    def display_book_info(self):\n",
    "        print(f\"Title: {self.title}\")\n",
    "        print(f\"Author: {self.author}\")\n",
    "        print(f\"ISBN: {self.isbn}\")\n",
    "        print(f\"Publication Year: {self.publication_year}\")\n",
    "        print(f\"Available Copies: {self.available_copies}\")\n",
    "\n",
    "\n",
    "\n",
    "\n"
   ]
  },
  {
   "cell_type": "code",
   "execution_count": 10,
   "metadata": {},
   "outputs": [
    {
     "name": "stdout",
     "output_type": "stream",
     "text": [
      "Title: 1984\n",
      "Author: George Boogs\n",
      "ISBN: 978-0451524935\n",
      "Publication Year: 1949\n",
      "Available Copies: 5\n",
      "Checking out a book...\n",
      "Title: 1984\n",
      "Author: George Boogs\n",
      "ISBN: 978-0451524935\n",
      "Publication Year: 1949\n",
      "Available Copies: 4\n",
      "Returning a book...\n",
      "Title: 1984\n",
      "Author: George Boogs\n",
      "ISBN: 978-0451524935\n",
      "Publication Year: 1949\n",
      "Available Copies: 5\n"
     ]
    }
   ],
   "source": [
    "if __name__ == \"__main__\":\n",
    "    book = Book(\"1984\", \"George Boogs\", \"978-0451524935\", 1949, 5)\n",
    "    book.display_book_info()\n",
    "    print(\"Checking out a book...\")\n",
    "    book.check_out()\n",
    "    book.display_book_info()\n",
    "    print(\"Returning a book...\")\n",
    "    book.return_book()\n",
    "    book.display_book_info()\n",
    "\n"
   ]
  },
  {
   "cell_type": "code",
   "execution_count": 19,
   "metadata": {},
   "outputs": [],
   "source": [
    "#8.For a ticket booking system, you have to design the \"Ticket\" class with OOP\n",
    "#principles in mind. The “Ticket” class should have the following attributes:\n",
    "#a. ticket_id: Represents the unique identifier for the ticket.\n",
    "#b. event_name: Represents the name of the event.\n",
    "#c. event_date: Represents the date of the event.\n",
    "#d. venue: Represents the venue of the event.\n",
    "#e. seat_number: Represents the seat number associated with the ticket.\n",
    "#f. price: Represents the price of the ticket.\n",
    "#g. is_reserved: Represents the reservation status of the ticket.\n",
    "#The class also includes the following methods:\n",
    "#a. reserve_ticket(self): Marks the ticket as reserved if it is not already reserved.\n",
    "#b. cancel_reservation(self): Cancels the reservation of the ticket if it is already\n",
    "#reserved.\n",
    "#c. display_ticket_info(self): Displays the information about the ticket, including its\n",
    "#attributes and reservation status."
   ]
  },
  {
   "cell_type": "code",
   "execution_count": 11,
   "metadata": {},
   "outputs": [],
   "source": [
    "class Ticket:\n",
    "    def __init__(self, ticket_id, event_name, event_date, venue, seat_number, price):\n",
    "        self.ticket_id = ticket_id\n",
    "        self.event_name = event_name\n",
    "        self.event_date = event_date\n",
    "        self.venue = venue\n",
    "        self.seat_number = seat_number\n",
    "        self.price = price\n",
    "        self.is_reserved = False\n",
    "\n",
    "    def reserve_ticket(self):\n",
    "        if not self.is_reserved:\n",
    "            self.is_reserved = True\n",
    "            return True\n",
    "        else:\n",
    "            return False\n",
    "\n",
    "    def cancel_reservation(self):\n",
    "        if self.is_reserved:\n",
    "            self.is_reserved = False\n",
    "            return True\n",
    "        else:\n",
    "            return False\n",
    "\n",
    "    def display_ticket_info(self):\n",
    "        print(f\"Ticket ID: {self.ticket_id}\")\n",
    "        print(f\"Event Name: {self.event_name}\")\n",
    "        print(f\"Event Date: {self.event_date}\")\n",
    "        print(f\"Venue: {self.venue}\")\n",
    "        print(f\"Seat Number: {self.seat_number}\")\n",
    "        print(f\"Price: ${self.price}\")\n",
    "        print(f\"Reservation Status: {'Reserved' if self.is_reserved else 'Not Reserved'}\")\n",
    "\n",
    "\n",
    "\n"
   ]
  },
  {
   "cell_type": "code",
   "execution_count": 12,
   "metadata": {},
   "outputs": [
    {
     "name": "stdout",
     "output_type": "stream",
     "text": [
      "Ticket ID: T12345\n",
      "Event Name: Rock Concert\n",
      "Event Date: 2024-07-15\n",
      "Venue: Madison Square Garden\n",
      "Seat Number: A12\n",
      "Price: $150.0\n",
      "Reservation Status: Not Reserved\n",
      "Reserving the ticket...\n",
      "Ticket ID: T12345\n",
      "Event Name: Rock Concert\n",
      "Event Date: 2024-07-15\n",
      "Venue: Madison Square Garden\n",
      "Seat Number: A12\n",
      "Price: $150.0\n",
      "Reservation Status: Reserved\n",
      "Cancelling the reservation...\n",
      "Ticket ID: T12345\n",
      "Event Name: Rock Concert\n",
      "Event Date: 2024-07-15\n",
      "Venue: Madison Square Garden\n",
      "Seat Number: A12\n",
      "Price: $150.0\n",
      "Reservation Status: Not Reserved\n"
     ]
    }
   ],
   "source": [
    "if __name__ == \"__main__\":\n",
    "    ticket = Ticket(\"T12345\", \"Rock Concert\", \"2024-07-15\", \"Madison Square Garden\", \"A12\", 150.00)\n",
    "    ticket.display_ticket_info()\n",
    "    print(\"Reserving the ticket...\")\n",
    "    ticket.reserve_ticket()\n",
    "    ticket.display_ticket_info()\n",
    "    print(\"Cancelling the reservation...\")\n",
    "    ticket.cancel_reservation()\n",
    "    ticket.display_ticket_info()"
   ]
  },
  {
   "cell_type": "code",
   "execution_count": 13,
   "metadata": {},
   "outputs": [],
   "source": [
    "# 9.You are creating a shopping cart for an e-commerce website. Using OOP to model\n",
    "#the \"ShoppingCart\" functionality the class should contain following attributes and\n",
    "#methods:\n",
    "#a. items: Represents the list of items in the shopping cart.\n",
    "#The class also includes the following methods:\n",
    "\n",
    "#a. add_item(self, item): Adds an item to the shopping cart by appending it to the\n",
    "#list of items.\n",
    "#b. remove_item(self, item): Removes an item from the shopping cart if it exists in\n",
    "#the list.\n",
    "#c. view_cart(self): Displays the items currently present in the shopping cart.\n",
    "#d. clear_cart(self): Clears all items from the shopping cart by reassigning an\n",
    "#empty list to the items attribute."
   ]
  },
  {
   "cell_type": "code",
   "execution_count": 14,
   "metadata": {},
   "outputs": [],
   "source": [
    "class ShoppingCart:\n",
    "    def __init__(self):\n",
    "        self.items = []\n",
    "\n",
    "    def add_item(self, item):\n",
    "        self.items.append(item)\n",
    "\n",
    "    def remove_item(self, item):\n",
    "        if item in self.items:\n",
    "            self.items.remove(item)\n",
    "            return True\n",
    "        else:\n",
    "            return False\n",
    "\n",
    "    def view_cart(self):\n",
    "        if not self.items:\n",
    "            print(\"The shopping cart is empty.\")\n",
    "        else:\n",
    "            print(\"Items in the shopping cart:\")\n",
    "            for item in self.items:\n",
    "                print(f\"- {item}\")\n",
    "\n",
    "    def clear_cart(self):\n",
    "        self.items = []\n",
    "\n",
    "\n",
    "\n"
   ]
  },
  {
   "cell_type": "code",
   "execution_count": 15,
   "metadata": {},
   "outputs": [
    {
     "name": "stdout",
     "output_type": "stream",
     "text": [
      "Items in the shopping cart:\n",
      "- Laptop\n",
      "- Headphones\n",
      "Removing 'Headphones' from the cart...\n",
      "Items in the shopping cart:\n",
      "- Laptop\n",
      "Clearing the cart...\n",
      "The shopping cart is empty.\n"
     ]
    }
   ],
   "source": [
    "if __name__ == \"__main__\":\n",
    "    cart = ShoppingCart()\n",
    "    cart.add_item(\"Laptop\")\n",
    "    cart.add_item(\"Headphones\")\n",
    "    cart.view_cart()\n",
    "    print(\"Removing 'Headphones' from the cart...\")\n",
    "    cart.remove_item(\"Headphones\")\n",
    "    cart.view_cart()\n",
    "    print(\"Clearing the cart...\")\n",
    "    cart.clear_cart()\n",
    "    cart.view_cart()\n"
   ]
  },
  {
   "cell_type": "code",
   "execution_count": 16,
   "metadata": {},
   "outputs": [],
   "source": [
    "# 10. Imagine a school management system. You have to design the \"Student\" class using\n",
    "#OOP concepts.The “Student” class has the following attributes:\n",
    "#a. name: Represents the name of the student.\n",
    "#b. age: Represents the age of the student.\n",
    "#c. grade: Represents the grade or class of the student.\n",
    "#d. student_id: Represents the unique identifier for the student.\n",
    "#e. attendance: Represents the attendance record of the student.\n",
    "#The class should also include the following methods:\n",
    "#a. update_attendance(self, date, status): Updates the attendance record of the\n",
    "#student for a given date with the provided status (e.g., present or absent).\n",
    "#b. get_attendance(self): Returns the attendance record of the student.\n",
    "#c. get_average_attendance(self): Calculates and returns the average\n",
    "#attendance percentage of the student based on their attendance record."
   ]
  },
  {
   "cell_type": "code",
   "execution_count": 17,
   "metadata": {},
   "outputs": [],
   "source": [
    "class Student:\n",
    "    def __init__(self, name, age, grade, student_id):\n",
    "        self.name = name\n",
    "        self.age = age\n",
    "        self.grade = grade\n",
    "        self.student_id = student_id\n",
    "        self.attendance = {}\n",
    "\n",
    "    def update_attendance(self, date, status):\n",
    "        self.attendance[date] = status\n",
    "\n",
    "    def get_attendance(self):\n",
    "        return self.attendance\n",
    "\n",
    "    def get_average_attendance(self):\n",
    "        total_days = len(self.attendance)\n",
    "        if total_days == 0:\n",
    "            return 0.0\n",
    "        present_days = sum(1 for status in self.attendance.values() if status.lower() == 'present')\n",
    "        average_attendance = (present_days / total_days) * 100\n",
    "        return average_attendance\n",
    "\n",
    "    def display_student_info(self):\n",
    "        print(f\"Name: {self.name}\")\n",
    "        print(f\"Age: {self.age}\")\n",
    "        print(f\"Grade: {self.grade}\")\n",
    "        print(f\"Student ID: {self.student_id}\")\n",
    "        print(f\"Attendance Record: {self.attendance}\")\n",
    "        print(f\"Average Attendance: {self.get_average_attendance()}%\")\n",
    "\n",
    "\n"
   ]
  },
  {
   "cell_type": "code",
   "execution_count": 18,
   "metadata": {},
   "outputs": [
    {
     "name": "stdout",
     "output_type": "stream",
     "text": [
      "Name: Alice Smith\n",
      "Age: 15\n",
      "Grade: 10th Grade\n",
      "Student ID: S12345\n",
      "Attendance Record: {'2024-06-01': 'Present', '2024-06-02': 'Absent', '2024-06-03': 'Present'}\n",
      "Average Attendance: 66.66666666666666%\n",
      "Attendance Record: {'2024-06-01': 'Present', '2024-06-02': 'Absent', '2024-06-03': 'Present'}\n",
      "Average Attendance: 66.66666666666666 %\n"
     ]
    }
   ],
   "source": [
    "if __name__ == \"__main__\":\n",
    "    student = Student(\"Alice Smith\", 15, \"10th Grade\", \"S12345\")\n",
    "    student.update_attendance(\"2024-06-01\", \"Present\")\n",
    "    student.update_attendance(\"2024-06-02\", \"Absent\")\n",
    "    student.update_attendance(\"2024-06-03\", \"Present\")\n",
    "    student.display_student_info()\n",
    "    print(\"Attendance Record:\", student.get_attendance())\n",
    "    print(\"Average Attendance:\", student.get_average_attendance(), \"%\")\n"
   ]
  }
 ],
 "metadata": {
  "kernelspec": {
   "display_name": "base",
   "language": "python",
   "name": "python3"
  },
  "language_info": {
   "codemirror_mode": {
    "name": "ipython",
    "version": 3
   },
   "file_extension": ".py",
   "mimetype": "text/x-python",
   "name": "python",
   "nbconvert_exporter": "python",
   "pygments_lexer": "ipython3",
   "version": "3.11.5"
  }
 },
 "nbformat": 4,
 "nbformat_minor": 2
}
